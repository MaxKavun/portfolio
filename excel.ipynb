{
 "cells": [
  {
   "cell_type": "code",
   "execution_count": 1,
   "metadata": {},
   "outputs": [],
   "source": [
    "import pandas as pd\n",
    "\n",
    "portfolio = pd.read_excel(\"data/portfolio.xlsx\", sheet_name=\"Stocks\")"
   ]
  },
  {
   "cell_type": "markdown",
   "metadata": {},
   "source": [
    "Let's update Company Name, Market Price and Annual Dividend per Share\n",
    "Notes:\n",
    "- Market Price can be extracted from <ticker>.info[\"currentPrice\"] for regular stocks, but not for ETFs\n",
    "- For ETF there is <ticker>.info[\"navPrice\"], which may slightly differ comparing to market price\n",
    "- ETF net asset is a value of all assets of the fund, substracting liabilities. For ETFs NAV price is calculated every day\n",
    "- Stocks dividends can be returned using dividendRate, but not for ETF. Ideally for ETFs we should calculate TTM dividend rate (Trailing twelwe months)\n",
    "- yfinance does have <ticker>.info[\"trailingAnnualDividendRate\"] but it's 0 for SCHD. Not reliable"
   ]
  },
  {
   "cell_type": "code",
   "execution_count": 2,
   "metadata": {},
   "outputs": [
    {
     "name": "stderr",
     "output_type": "stream",
     "text": [
      "/var/folders/nm/f3npn9kn4zv1vmr6y6m8gyt80000gn/T/ipykernel_44319/3459206826.py:29: FutureWarning: Setting an item of incompatible dtype is deprecated and will raise in a future error of pandas. Value '611.4300000000001' has dtype incompatible with int64, please explicitly cast to a compatible dtype first.\n",
      "  portfolio.loc[i, \"Dividends Paid\"] = sum_of_divs_per_share * num_of_shares\n"
     ]
    }
   ],
   "source": [
    "import yfinance as yf\n",
    "from main import (\n",
    "    calculate_etf_ttm,\n",
    "    calculate_percentage_difference,\n",
    "    dividends_paid_per_share,\n",
    "    calculate_total_return\n",
    ")\n",
    "\n",
    "for i in range(len(portfolio)):\n",
    "  ticker_data = yf.Ticker(portfolio.loc[i, \"Ticker\"])\n",
    "  match ticker_data.info[\"quoteType\"]:\n",
    "    case \"ETF\":\n",
    "      annual_dividend_per_share = calculate_etf_ttm(ticker_data)\n",
    "      market_price = round(ticker_data.info[\"navPrice\"], 2)\n",
    "    case _:\n",
    "      annual_dividend_per_share = ticker_data.info[\"dividendRate\"]\n",
    "      market_price = round(ticker_data.info[\"currentPrice\"],2)\n",
    "\n",
    "  buy_price = portfolio.loc[i, \"Buy Price\"]\n",
    "  capital_gains = calculate_percentage_difference(buy_price,market_price)\n",
    "  num_of_shares = portfolio.loc[i, \"Number of Shares\"]\n",
    "  sum_of_divs_per_share = dividends_paid_per_share(portfolio.loc[i, \"Date of Purchase\"],ticker_data)\n",
    "  total_return = calculate_total_return(sum_of_divs_per_share,buy_price,market_price)\n",
    "\n",
    "  portfolio.loc[i, \"Company Name\"] = ticker_data.info[\"shortName\"]\n",
    "  portfolio.loc[i, \"Market Price\"] = market_price\n",
    "  portfolio.loc[i, \"Annual Dividend per Share\"] = annual_dividend_per_share\n",
    "  portfolio.loc[i, \"Capital Gains\"] = round(capital_gains, 2)\n",
    "  portfolio.loc[i, \"Dividends Paid\"] = sum_of_divs_per_share * num_of_shares\n",
    "  portfolio.loc[i, \"Total Return\"] = total_return\n",
    "\n"
   ]
  },
  {
   "cell_type": "code",
   "execution_count": 3,
   "metadata": {},
   "outputs": [
    {
     "data": {
      "text/html": [
       "<div>\n",
       "<style scoped>\n",
       "    .dataframe tbody tr th:only-of-type {\n",
       "        vertical-align: middle;\n",
       "    }\n",
       "\n",
       "    .dataframe tbody tr th {\n",
       "        vertical-align: top;\n",
       "    }\n",
       "\n",
       "    .dataframe thead th {\n",
       "        text-align: right;\n",
       "    }\n",
       "</style>\n",
       "<table border=\"1\" class=\"dataframe\">\n",
       "  <thead>\n",
       "    <tr style=\"text-align: right;\">\n",
       "      <th></th>\n",
       "      <th>Company Name</th>\n",
       "      <th>Ticker</th>\n",
       "      <th>Number of Shares</th>\n",
       "      <th>Buy Price</th>\n",
       "      <th>Market Price</th>\n",
       "      <th>Annual Dividend per Share</th>\n",
       "      <th>Date of Purchase</th>\n",
       "      <th>Capital Gains</th>\n",
       "      <th>Dividends Paid</th>\n",
       "      <th>Total Return</th>\n",
       "    </tr>\n",
       "  </thead>\n",
       "  <tbody>\n",
       "    <tr>\n",
       "      <th>0</th>\n",
       "      <td>Atlantica Sustainable Infrastru</td>\n",
       "      <td>AY</td>\n",
       "      <td>687</td>\n",
       "      <td>23.55</td>\n",
       "      <td>21.60</td>\n",
       "      <td>1.78</td>\n",
       "      <td>22.06.2023</td>\n",
       "      <td>-8.28</td>\n",
       "      <td>611.43</td>\n",
       "      <td>-4.501062</td>\n",
       "    </tr>\n",
       "    <tr>\n",
       "      <th>1</th>\n",
       "      <td>Atlantica Sustainable Infrastru</td>\n",
       "      <td>AY</td>\n",
       "      <td>400</td>\n",
       "      <td>24.66</td>\n",
       "      <td>21.60</td>\n",
       "      <td>1.78</td>\n",
       "      <td>27.07.2023</td>\n",
       "      <td>-12.41</td>\n",
       "      <td>356.00</td>\n",
       "      <td>-8.799676</td>\n",
       "    </tr>\n",
       "    <tr>\n",
       "      <th>2</th>\n",
       "      <td>Schwab US Dividend Equity ETF</td>\n",
       "      <td>SCHD</td>\n",
       "      <td>983</td>\n",
       "      <td>75.65</td>\n",
       "      <td>75.82</td>\n",
       "      <td>2.66</td>\n",
       "      <td>27.07.2023</td>\n",
       "      <td>0.22</td>\n",
       "      <td>1376.20</td>\n",
       "      <td>2.075347</td>\n",
       "    </tr>\n",
       "  </tbody>\n",
       "</table>\n",
       "</div>"
      ],
      "text/plain": [
       "                      Company Name Ticker  Number of Shares  Buy Price  \\\n",
       "0  Atlantica Sustainable Infrastru     AY               687      23.55   \n",
       "1  Atlantica Sustainable Infrastru     AY               400      24.66   \n",
       "2    Schwab US Dividend Equity ETF   SCHD               983      75.65   \n",
       "\n",
       "   Market Price  Annual Dividend per Share Date of Purchase  Capital Gains  \\\n",
       "0         21.60                       1.78       22.06.2023          -8.28   \n",
       "1         21.60                       1.78       27.07.2023         -12.41   \n",
       "2         75.82                       2.66       27.07.2023           0.22   \n",
       "\n",
       "   Dividends Paid  Total Return  \n",
       "0          611.43     -4.501062  \n",
       "1          356.00     -8.799676  \n",
       "2         1376.20      2.075347  "
      ]
     },
     "execution_count": 3,
     "metadata": {},
     "output_type": "execute_result"
    }
   ],
   "source": [
    "portfolio.head()"
   ]
  },
  {
   "cell_type": "code",
   "execution_count": 78,
   "metadata": {},
   "outputs": [],
   "source": [
    "portfolio.to_excel(\"data/portfolio.xlsx\", sheet_name=\"Stocks\", index=False)"
   ]
  }
 ],
 "metadata": {
  "kernelspec": {
   "display_name": ".venv",
   "language": "python",
   "name": "python3"
  },
  "language_info": {
   "codemirror_mode": {
    "name": "ipython",
    "version": 3
   },
   "file_extension": ".py",
   "mimetype": "text/x-python",
   "name": "python",
   "nbconvert_exporter": "python",
   "pygments_lexer": "ipython3",
   "version": "3.11.4"
  }
 },
 "nbformat": 4,
 "nbformat_minor": 2
}
