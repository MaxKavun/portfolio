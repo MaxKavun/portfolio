{
 "cells": [
  {
   "cell_type": "code",
   "execution_count": 4,
   "metadata": {},
   "outputs": [],
   "source": [
    "import datetime\n",
    "\n",
    "stocks = {\n",
    "    \"AY_1\": {\n",
    "        \"ticker\": \"AY\",\n",
    "        \"dateOfBuy\": datetime.date(2023,6,22),\n",
    "        \"numOfShares\": 687,\n",
    "        \"price\": \"23.55\",\n",
    "        \"broker\": \"TradeStation\"\n",
    "    },\n",
    "    \"AY_2\": {\n",
    "        \"ticker\": \"AY\",\n",
    "        \"dateOfBuy\": datetime.date(2023,7,27),\n",
    "        \"numOfShares\": 400,\n",
    "        \"price\": \"24.66\",\n",
    "        \"broker\": \"IBKR\"\n",
    "    }\n",
    "}"
   ]
  },
  {
   "cell_type": "code",
   "execution_count": null,
   "metadata": {},
   "outputs": [],
   "source": [
    "import yfinance as yf\n",
    "\n",
    "for k,v in stocks:\n",
    "    stock = yf.Ticker(v['ticker'])\n",
    "    annual_dividends = v['numOfShares'] * stock.info['dividendRate']\n",
    "    "
   ]
  },
  {
   "cell_type": "code",
   "execution_count": 2,
   "metadata": {},
   "outputs": [],
   "source": [
    "import yfinance as yf\n",
    "\n",
    "ay = yf.Ticker(\"AY\")\n"
   ]
  },
  {
   "cell_type": "code",
   "execution_count": 8,
   "metadata": {},
   "outputs": [],
   "source": [
    "import pandas as pd\n",
    "\n",
    "pd_data = ay.history(start=datetime.date(2023,6,22),end=datetime.date.today())\n",
    "\n",
    "dividends_history = pd_data['Dividends']"
   ]
  },
  {
   "cell_type": "code",
   "execution_count": 17,
   "metadata": {},
   "outputs": [
    {
     "name": "stdout",
     "output_type": "stream",
     "text": [
      "Sum of dividends for the period of owning share is 0.89\n",
      "Money which I paid is 23.55\n",
      "Current stock price is 21.600000381469727\n",
      "-4.501059951296278\n"
     ]
    }
   ],
   "source": [
    "from main import calculate_percentage_difference\n",
    "\n",
    "amount_of_dividends_receives = dividends_history.sum()\n",
    "print(f\"Sum of dividends for the period of owning share is {amount_of_dividends_receives}\")\n",
    "money_paid = 23.55\n",
    "current_price = pd_data.tail(1)['Close'].values[0]\n",
    "print(f\"Money which I paid is {money_paid}\")\n",
    "print(f\"Current stock price is {current_price}\")\n",
    "\n",
    "capital_gains = calculate_percentage_difference(money_paid,current_price + amount_of_dividends_receives)\n",
    "print(capital_gains)\n"
   ]
  }
 ],
 "metadata": {
  "kernelspec": {
   "display_name": ".venv",
   "language": "python",
   "name": "python3"
  },
  "language_info": {
   "codemirror_mode": {
    "name": "ipython",
    "version": 3
   },
   "file_extension": ".py",
   "mimetype": "text/x-python",
   "name": "python",
   "nbconvert_exporter": "python",
   "pygments_lexer": "ipython3",
   "version": "3.11.4"
  }
 },
 "nbformat": 4,
 "nbformat_minor": 2
}
