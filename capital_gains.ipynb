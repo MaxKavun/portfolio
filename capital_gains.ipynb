{
 "cells": [
  {
   "cell_type": "code",
   "execution_count": null,
   "metadata": {},
   "outputs": [],
   "source": [
    "import yfinance as yf\n",
    "\n",
    "ay = yf.Ticker(\"AY\")"
   ]
  },
  {
   "cell_type": "code",
   "execution_count": null,
   "metadata": {},
   "outputs": [],
   "source": [
    "pd_data = ay.history(start=datetime.date(2023,6,22),end=datetime.date.today())"
   ]
  },
  {
   "cell_type": "code",
   "execution_count": null,
   "metadata": {},
   "outputs": [],
   "source": [
    "money_paid = 23.55\n",
    "current_price = pd_data.tail(1)['Close'].values[0]\n",
    "print(f\"Money which I paid is {money_paid}\")\n",
    "print(f\"Current stock price is {current_price}\")\n",
    "\n",
    "capital_gains = calculate_percentage_difference(money_paid,current_price)\n",
    "print(capital_gains)"
   ]
  }
 ],
 "metadata": {
  "language_info": {
   "name": "python"
  }
 },
 "nbformat": 4,
 "nbformat_minor": 2
}
