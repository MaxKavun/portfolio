{
 "cells": [
  {
   "cell_type": "code",
   "execution_count": 35,
   "metadata": {},
   "outputs": [],
   "source": [
    "import pandas as pd\n",
    "\n",
    "portfolio = pd.read_excel(\"data/portfolio.xlsx\", sheet_name=\"Stocks\")"
   ]
  },
  {
   "cell_type": "markdown",
   "metadata": {},
   "source": [
    "Let's update Company Name, Market Price and Annual Dividend per Share\n",
    "Notes:\n",
    "- Market Price can be extracted from <ticker>.info[\"currentPrice\"] for regular stocks, but not for ETFs\n",
    "- For ETF there is <ticker>.info[\"navPrice\"], which may slightly differ comparing to market price\n",
    "- ETF net asset is a value of all assets of the fund, substracting liabilities. For ETFs NAV price is calculated every day\n",
    "- Stocks dividends can be returned using dividendRate, but not for ETF. Ideally for ETFs we should calculate TTM dividend rate (Trailing twelwe months)\n",
    "- yfinance does have <ticker>.info[\"trailingAnnualDividendRate\"] but it's 0 for SCHD. Not reliable"
   ]
  },
  {
   "cell_type": "code",
   "execution_count": 68,
   "metadata": {},
   "outputs": [],
   "source": [
    "import yfinance as yf\n",
    "from main import calculate_etf_ttm\n",
    "\n",
    "for i in range(len(portfolio)):\n",
    "  ticker_data = yf.Ticker(portfolio.loc[i, \"Ticker\"])\n",
    "  match ticker_data.info[\"quoteType\"]:\n",
    "    case \"ETF\":\n",
    "      annual_dividend_per_share = calculate_etf_ttm(ticker_data)\n",
    "      current_price = ticker_data.info[\"navPrice\"]\n",
    "    case _:\n",
    "      annual_dividend_per_share = ticker_data.info[\"dividendRate\"]\n",
    "      current_price = ticker_data.info[\"currentPrice\"]\n",
    "\n",
    "  portfolio.loc[i, \"Company Name\"] = ticker_data.info[\"shortName\"]\n",
    "  portfolio.loc[i, \"Market Price\"] = round(current_price,2)\n",
    "  portfolio.loc[i, \"Annual Dividend per Share\"] = annual_dividend_per_share\n",
    "\n"
   ]
  },
  {
   "cell_type": "code",
   "execution_count": 69,
   "metadata": {},
   "outputs": [
    {
     "data": {
      "text/html": [
       "<div>\n",
       "<style scoped>\n",
       "    .dataframe tbody tr th:only-of-type {\n",
       "        vertical-align: middle;\n",
       "    }\n",
       "\n",
       "    .dataframe tbody tr th {\n",
       "        vertical-align: top;\n",
       "    }\n",
       "\n",
       "    .dataframe thead th {\n",
       "        text-align: right;\n",
       "    }\n",
       "</style>\n",
       "<table border=\"1\" class=\"dataframe\">\n",
       "  <thead>\n",
       "    <tr style=\"text-align: right;\">\n",
       "      <th></th>\n",
       "      <th>Company Name</th>\n",
       "      <th>Ticker</th>\n",
       "      <th>Number of Shares</th>\n",
       "      <th>Buy Price</th>\n",
       "      <th>Market Price</th>\n",
       "      <th>Annual Dividend per Share</th>\n",
       "      <th>Date of Purchase</th>\n",
       "      <th>Capital Gains</th>\n",
       "      <th>Dividends Paid</th>\n",
       "      <th>Total Return</th>\n",
       "    </tr>\n",
       "  </thead>\n",
       "  <tbody>\n",
       "    <tr>\n",
       "      <th>0</th>\n",
       "      <td>Atlantica Sustainable Infrastru</td>\n",
       "      <td>AY</td>\n",
       "      <td>687</td>\n",
       "      <td>23.55</td>\n",
       "      <td>21.60</td>\n",
       "      <td>1.78</td>\n",
       "      <td>22.06.2023</td>\n",
       "      <td>NaN</td>\n",
       "      <td>NaN</td>\n",
       "      <td>NaN</td>\n",
       "    </tr>\n",
       "    <tr>\n",
       "      <th>1</th>\n",
       "      <td>Atlantica Sustainable Infrastru</td>\n",
       "      <td>AY</td>\n",
       "      <td>400</td>\n",
       "      <td>24.66</td>\n",
       "      <td>21.60</td>\n",
       "      <td>1.78</td>\n",
       "      <td>27.07.2023</td>\n",
       "      <td>NaN</td>\n",
       "      <td>NaN</td>\n",
       "      <td>NaN</td>\n",
       "    </tr>\n",
       "    <tr>\n",
       "      <th>2</th>\n",
       "      <td>Schwab US Dividend Equity ETF</td>\n",
       "      <td>SCHD</td>\n",
       "      <td>100</td>\n",
       "      <td>24.66</td>\n",
       "      <td>75.82</td>\n",
       "      <td>2.66</td>\n",
       "      <td>27.07.2024</td>\n",
       "      <td>NaN</td>\n",
       "      <td>NaN</td>\n",
       "      <td>NaN</td>\n",
       "    </tr>\n",
       "  </tbody>\n",
       "</table>\n",
       "</div>"
      ],
      "text/plain": [
       "                      Company Name Ticker  Number of Shares  Buy Price  \\\n",
       "0  Atlantica Sustainable Infrastru     AY               687      23.55   \n",
       "1  Atlantica Sustainable Infrastru     AY               400      24.66   \n",
       "2    Schwab US Dividend Equity ETF   SCHD               100      24.66   \n",
       "\n",
       "   Market Price  Annual Dividend per Share Date of Purchase  Capital Gains  \\\n",
       "0         21.60                       1.78       22.06.2023            NaN   \n",
       "1         21.60                       1.78       27.07.2023            NaN   \n",
       "2         75.82                       2.66       27.07.2024            NaN   \n",
       "\n",
       "   Dividends Paid  Total Return  \n",
       "0             NaN           NaN  \n",
       "1             NaN           NaN  \n",
       "2             NaN           NaN  "
      ]
     },
     "execution_count": 69,
     "metadata": {},
     "output_type": "execute_result"
    }
   ],
   "source": [
    "portfolio.head()"
   ]
  },
  {
   "cell_type": "code",
   "execution_count": 55,
   "metadata": {},
   "outputs": [],
   "source": [
    "portfolio.to_excel(\"data/portfolio.xlsx\", sheet_name=\"Stocks\", index=False)"
   ]
  }
 ],
 "metadata": {
  "kernelspec": {
   "display_name": ".venv",
   "language": "python",
   "name": "python3"
  },
  "language_info": {
   "codemirror_mode": {
    "name": "ipython",
    "version": 3
   },
   "file_extension": ".py",
   "mimetype": "text/x-python",
   "name": "python",
   "nbconvert_exporter": "python",
   "pygments_lexer": "ipython3",
   "version": "3.11.4"
  }
 },
 "nbformat": 4,
 "nbformat_minor": 2
}
