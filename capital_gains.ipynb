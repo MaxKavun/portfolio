{
 "cells": [
  {
   "cell_type": "code",
   "execution_count": 30,
   "metadata": {},
   "outputs": [],
   "source": [
    "import yfinance as yf\n",
    "#currentPrice\n",
    "ticker = yf.Ticker(\"SCHD\")"
   ]
  },
  {
   "cell_type": "code",
   "execution_count": 35,
   "metadata": {},
   "outputs": [
    {
     "name": "stdout",
     "output_type": "stream",
     "text": [
      "2.66\n"
     ]
    }
   ],
   "source": [
    "ticker.info\n",
    "from main import calculate_etf_ttm\n",
    "\n",
    "dividend_rate_ttm = calculate_etf_ttm(ticker)\n",
    "print(dividend_rate_ttm)"
   ]
  },
  {
   "cell_type": "code",
   "execution_count": null,
   "metadata": {},
   "outputs": [],
   "source": [
    "import datetime\n",
    "\n",
    "pd_data = ticker.history(start=datetime.date(2023,6,22),end=datetime.date.today())"
   ]
  },
  {
   "cell_type": "code",
   "execution_count": null,
   "metadata": {},
   "outputs": [],
   "source": [
    "money_paid = 23.55\n",
    "current_price = pd_data.tail(1)['Close'].values[0]\n",
    "print(f\"Money which I paid is {money_paid}\")\n",
    "print(f\"Current stock price is {current_price}\")\n",
    "\n",
    "capital_gains = calculate_percentage_difference(money_paid,current_price)\n",
    "print(capital_gains)"
   ]
  }
 ],
 "metadata": {
  "kernelspec": {
   "display_name": ".venv",
   "language": "python",
   "name": "python3"
  },
  "language_info": {
   "codemirror_mode": {
    "name": "ipython",
    "version": 3
   },
   "file_extension": ".py",
   "mimetype": "text/x-python",
   "name": "python",
   "nbconvert_exporter": "python",
   "pygments_lexer": "ipython3",
   "version": "3.11.4"
  }
 },
 "nbformat": 4,
 "nbformat_minor": 2
}
